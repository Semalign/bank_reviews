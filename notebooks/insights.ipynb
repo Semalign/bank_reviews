import pandas as pd, seaborn as sns, matplotlib.pyplot as plt
from nltk.sentiment import SentimentIntensityAnalyzer
import pandas as pd

# Load your dataset
file_path = r"C:\Users\HP\Desktop\Tenx\week2\data\clean\ethiopian_bank_reviews_cleaned.csv"
df = pd.read_csv(file_path)

# Initialize VADER
sia = SentimentIntensityAnalyzer()

# Apply sentiment analysis on the correct column: 'content'
df["sentiment_score"] = df["content"].apply(lambda t: sia.polarity_scores(str(t))["compound"])
def get_sentiment_label(score):
    if score >= 0.05:
        return "positive"
    elif score <= -0.05:
        return "negative"
    else:
        return "neutral"

df["sentiment_label"] = df["sentiment_score"].apply(get_sentiment_label)


import os
import seaborn as sns
import matplotlib.pyplot as plt

# Make sure output directory exists
os.makedirs("outputs", exist_ok=True)

# Plot and save
sns.countplot(data=df, x="sentiment_label", hue="bank")
plt.title("Sentiment Distribution by Bank")
plt.savefig("outputs/sentiment_dist.png")
plt.show()
