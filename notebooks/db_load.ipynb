import cx_Oracle
import pandas as pd

# Load your cleaned DataFrame
file_path=r"C:\Users\HP\Desktop\Tenx\week2\bank_reviews\notebooks\data\clean\ethiopian_bank_reviews_cleaned.csv"
df = pd.read_csv(file_path)

# Oracle connection
dsn = cx_Oracle.makedsn("localhost", 1521, service_name="XEPDB1")
conn = cx_Oracle.connect(user="system", password="oracle123", dsn=dsn)
cursor = conn.cursor()

# Insert banks and get their IDs
bank_ids = {}
for bank in df["bank"].unique():
    try:
        cursor.execute("INSERT INTO banks(name) VALUES(:name)", {"name": bank})
        conn.commit()
    except cx_Oracle.IntegrityError:
        pass  # Already exists
    cursor.execute("SELECT id FROM banks WHERE name = :name", {"name": bank})
    bank_ids[bank] = cursor.fetchone()[0]

# Insert reviews
for _, row in df.iterrows():
    cursor.execute("""
        INSERT INTO reviews(bank_id, review_text, rating, review_date, sentiment_label, sentiment_score)
        VALUES(:bank_id, :review_text, :rating, TO_DATE(:review_date, 'YYYY-MM-DD'),
               :sentiment_label, :sentiment_score)
    """, {
        "bank_id": bank_ids[row["bank"]],
        "review_text": row["content"],
        "rating": row["rating"],
        "review_date": row["date"],
        "sentiment_label": row["sentiment_label"],
        "sentiment_score": row["sentiment_score"]
    })

conn.commit()
cursor.close()
conn.close()
print("✅ Data successfully loaded into Oracle DB.")
